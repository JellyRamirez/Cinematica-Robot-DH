{
 "metadata": {
  "name": "",
  "signature": "sha256:741ec77c5a6a5c1b7aa87e6c298e623972d535de051b2a84582e18f60a08517a"
 },
 "nbformat": 3,
 "nbformat_minor": 0,
 "worksheets": [
  {
   "cells": [
    {
     "cell_type": "code",
     "collapsed": false,
     "input": [
      "from collections import OrderedDict\n",
      "import matplotlib.pyplot as plt\n",
      "from mpl_toolkits.mplot3d import Axes3D\n",
      "%matplotlib inline\n",
      "import numpy as np\n",
      "np.set_printoptions(suppress=True, precision=3) # to avoid 1e-17 expressions in rotation matrix"
     ],
     "language": "python",
     "metadata": {},
     "outputs": [],
     "prompt_number": 504
    },
    {
     "cell_type": "code",
     "collapsed": false,
     "input": [
      "def DH(conf):\n",
      "    '''\n",
      "    Calculates the Denavit-Hartenberg Matrix\n",
      "    where\n",
      "    d: offset along previous z to the common normal\n",
      "    \u03b8: angle about previous z, from old x to new x\n",
      "    r: length of the common normal (aka a, but if using this notation, do not confuse with \u03b1). Assuming a revolute joint, this is the radius about previous z.\n",
      "    \u03b1: angle about common normal, from old z axis to new z axis\n",
      "    '''\n",
      "    if len(conf) != 4:\n",
      "        raise Exception('Need exactly 4 Denavit-Hartenberg parameters, you provided %i.' % len(conf))\n",
      "        \n",
      "    #    Z  |   X    \n",
      "    Theta, d, r, alpha = conf\n",
      "    \n",
      "    T = np.eye(4, dtype=np.float32)\n",
      "\n",
      "    cTheta = np.cos(Theta/180.0*np.pi)\n",
      "    sTheta = np.sin(Theta/180.0*np.pi)\n",
      "    calpha = np.cos(alpha/180.0*np.pi)\n",
      "    salpha = np.sin(alpha/180.0*np.pi)\n",
      "    \n",
      "    T[np.ix_([0],[0])] = cTheta\n",
      "    T[np.ix_([0],[1])] = -sTheta * calpha\n",
      "    T[np.ix_([0],[2])] = sTheta * salpha\n",
      "    T[np.ix_([0],[3])] = r * cTheta\n",
      "    \n",
      "    T[np.ix_([1],[0])] = sTheta\n",
      "    T[np.ix_([1],[1])] = cTheta * calpha\n",
      "    T[np.ix_([1],[2])] = -cTheta * salpha\n",
      "    T[np.ix_([1],[3])] = r * sTheta\n",
      "\n",
      "    T[np.ix_([2],[1])] = salpha\n",
      "    T[np.ix_([2],[2])] = calpha\n",
      "    T[np.ix_([2],[3])] = d\n",
      "\n",
      "    return T"
     ],
     "language": "python",
     "metadata": {},
     "outputs": [],
     "prompt_number": 505
    },
    {
     "cell_type": "markdown",
     "metadata": {},
     "source": [
      "[Denavit-Hartenberg](http://en.wikipedia.org/wiki/Denavit%E2%80%93Hartenberg_parameters) Matrix\n",
      "\n",
      "$$T=\\left[\\begin{array}{ccc|c}\\cos\\theta_n & -\\sin\\theta_n \\cos\\alpha_n & \\sin\\theta_n \\sin\\alpha_n & r_n \\cos\\theta_n \\\\    \\sin\\theta_n & \\cos\\theta_n \\cos\\alpha_n & -\\cos\\theta_n \\sin\\alpha_n & r_n \\sin\\theta_n \\\\    0 & \\sin\\alpha_n & \\cos\\alpha_n & d_n \\\\    \\hline    0 & 0 & 0 & 1\n",
      "  \\end{array}\\right]=\\left[\\begin{array}{ccc|c}     &  &  &  \\\\     & R &  & T \\\\     & &  &  \\\\    \\hline    0 & 0 & 0 & 1  \\end{array}\\right]$$\n",
      "  \n",
      "where\n",
      "\n",
      "* $\\theta\\,$: angle about previous $z$, from old $x$ to new $x$\n",
      "* $d\\,$: offset along previous $z$ to the common normal\n",
      "* $r\\,$: length of the common normal (aka $a$, but if using this notation, do not confuse with $\\alpha$).  Assuming a revolute joint, this is the radius about previous <math>z</math>.\n",
      "* $\\alpha\\,$: angle about common normal, from old $z$ axis to new $z$ axis\n",
      "\n",
      "![Image](http://upload.wikimedia.org/wikipedia/commons/3/3f/Sample_Denavit-Hartenberg_Diagram.png)\n",
      "\n",
      "Or see a [Video on Youtube](https://www.youtube.com/watch?v=rA9tm0gTln8)"
     ]
    },
    {
     "cell_type": "code",
     "collapsed": false,
     "input": [
      "#          X    |    Z\n",
      "#       Th,    d,   r,  al\n",
      "T = DH([0.0, 0.0, 3.0, 0.0])"
     ],
     "language": "python",
     "metadata": {},
     "outputs": [],
     "prompt_number": 506
    },
    {
     "cell_type": "code",
     "collapsed": false,
     "input": [
      "T"
     ],
     "language": "python",
     "metadata": {},
     "outputs": [
      {
       "metadata": {},
       "output_type": "pyout",
       "prompt_number": 507,
       "text": [
        "array([[ 1., -0.,  0.,  3.],\n",
        "       [ 0.,  1., -0.,  0.],\n",
        "       [ 0.,  0.,  1.,  0.],\n",
        "       [ 0.,  0.,  0.,  1.]], dtype=float32)"
       ]
      }
     ],
     "prompt_number": 507
    },
    {
     "cell_type": "markdown",
     "metadata": {},
     "source": [
      "![Multicar](Multicar-Robot-Konfiguration.png)"
     ]
    },
    {
     "cell_type": "code",
     "collapsed": false,
     "input": [
      "#        X,   Y,   Z, ...\n",
      "TCP = [0.0, 0.0, 0.0, 1.0] # starting from middle of rear axis of the vehicle\n",
      "\n",
      "verschub_X = 4.297   # m Abstand Hinterachse zu Verschubrahmen\n",
      "verschub_Z = 0.546   # m H\u00f6he des Verschubrahmens \u00fcber Boden\n",
      "roll = 0.0        # Grad Rollwinkel\n",
      "\n",
      "verschub_Y = 0.0  # m [-0.612, 0.612]\n",
      "dreharm_Z = 0.833    # m L\u00e4nge Verschubrahmen zu Drehpunkt Hauptarm\n",
      "\n",
      "hauptarm_R = 0.0  # Grad\n",
      "hauptarm_L = 1.443  # m L\u00e4nge Hauptarm\n",
      "\n",
      "nebenarm_R = 0.0     # Grad\n",
      "nebenarm_L = 0.954   # m\n",
      "\n",
      "schnellwech_R = 90.0  # Grad\n",
      "schnellwech_L = 0.145# m\n",
      "#                                          Z    |     X\n",
      "#                                        Th,   d,    r,    al\n",
      "konfiguration = OrderedDict([\n",
      "                ('Fahrzeug', [0.0, 0.0, 0.0, roll]),\n",
      "                ('Verschubrahmen', [0.0, verschub_Z, verschub_X, 0.0]), # Verschubrahmen von Mitte Hinterachse\n",
      "                ('Verschubschlitten', [0.0, 0.0, 0.0, 90.0]),\n",
      "                ('Dreharm', [90.0, -verschub_Y-0.08, dreharm_Z, 90.0]), # jetzt z nach vorn, x nach oben\n",
      "                ('Hauptarm', [hauptarm_R+180.0-53.0, 0.0, hauptarm_L, 0.0]),\n",
      "                ('Nebenarm', [nebenarm_R, 0.0, nebenarm_L, 0.0]),\n",
      "                ('Schnellwechselsystem', [schnellwech_R, 0.0, schnellwech_L, 0.0])\n",
      "                ])"
     ],
     "language": "python",
     "metadata": {},
     "outputs": [],
     "prompt_number": 576
    },
    {
     "cell_type": "code",
     "collapsed": false,
     "input": [
      "T = OrderedDict()\n",
      "for name, conf in konfiguration.items():\n",
      "    print('Integriere %s...' % name)\n",
      "    T[name] = DH(conf)\n",
      "\n",
      "M = reduce(np.dot, T.values()) # Matrix mutliplication\n",
      "M"
     ],
     "language": "python",
     "metadata": {},
     "outputs": [
      {
       "output_type": "stream",
       "stream": "stdout",
       "text": [
        "Integriere Fahrzeug...\n",
        "Integriere Verschubrahmen...\n",
        "Integriere Verschubschlitten...\n",
        "Integriere Dreharm...\n",
        "Integriere Hauptarm...\n",
        "Integriere Nebenarm...\n",
        "Integriere Schnellwechselsystem...\n"
       ]
      },
      {
       "metadata": {},
       "output_type": "pyout",
       "prompt_number": 577,
       "text": [
        "array([[-0.   ,  0.   ,  1.   ,  4.297],\n",
        "       [ 0.602,  0.799, -0.   , -1.747],\n",
        "       [-0.799,  0.602, -0.   , -0.179],\n",
        "       [ 0.   ,  0.   ,  0.   ,  1.   ]], dtype=float32)"
       ]
      }
     ],
     "prompt_number": 577
    },
    {
     "cell_type": "code",
     "collapsed": false,
     "input": [],
     "language": "python",
     "metadata": {},
     "outputs": [],
     "prompt_number": 577
    },
    {
     "cell_type": "code",
     "collapsed": false,
     "input": [
      "fig = plt.figure()\n",
      "ax = Axes3D(fig, axisbg='w')\n",
      "\n",
      "oldp = TCP\n",
      "for i in range(len(T)):\n",
      "    M = reduce(np.dot, T.values()[:i+1]) # Matrix mutliplication\n",
      "\n",
      "    p = np.dot(M,TCP)\n",
      "    \n",
      "    x = float(p[0])\n",
      "    y = float(p[1])\n",
      "    z = float(p[2])\n",
      "    \n",
      "    ax.plot([oldp[0], x], [oldp[1], y], [oldp[2], z], c='k', alpha=.5)\n",
      "    ax.scatter(x, y, z, s=50)\n",
      "    \n",
      "    oldp = p\n",
      "    \n",
      "#plt.legend(bbox_to_anchor=(0, 0))\n",
      "plt.xlabel('X');\n",
      "plt.ylabel('Y');\n",
      "plt.axis('equal')\n",
      "ax.view_init(0, -135)\n",
      "\n",
      "plt.savefig('3D-Konfiguration.png', dpi=150)"
     ],
     "language": "python",
     "metadata": {},
     "outputs": [
      {
       "metadata": {},
       "output_type": "display_data",
       "png": "[encoded data removed]",
       "text": [
        "<matplotlib.figure.Figure at 0x105f06c10>"
       ]
      }
     ],
     "prompt_number": 580
    },
    {
     "cell_type": "code",
     "collapsed": false,
     "input": [],
     "language": "python",
     "metadata": {},
     "outputs": [],
     "prompt_number": 516
    },
    {
     "cell_type": "code",
     "collapsed": false,
     "input": [],
     "language": "python",
     "metadata": {},
     "outputs": [],
     "prompt_number": 510
    },
    {
     "cell_type": "code",
     "collapsed": false,
     "input": [],
     "language": "python",
     "metadata": {},
     "outputs": [],
     "prompt_number": 510
    }
   ],
   "metadata": {}
  }
 ]
}