{
 "metadata": {
  "name": "",
  "signature": "sha256:9b1b9f500984e21d9072249f760f974f06bffdea5a010605cd5a780a535bb0f5"
 },
 "nbformat": 3,
 "nbformat_minor": 0,
 "worksheets": [
  {
   "cells": [
    {
     "cell_type": "code",
     "collapsed": false,
     "input": [
      "import numpy as np"
     ],
     "language": "python",
     "metadata": {},
     "outputs": [],
     "prompt_number": 1
    },
    {
     "cell_type": "code",
     "collapsed": false,
     "input": [
      "def calcT(y, p, r, t):\n",
      "    \n",
      "    T = np.eye(4)\n",
      "    \n",
      "    # from Degree to Radians\n",
      "    y = y*np.pi/180.0\n",
      "    p = p*np.pi/180.0\n",
      "    r = r*np.pi/180.0\n",
      "    \n",
      "    cr = np.cos(r)\n",
      "    sr = np.sin(r)\n",
      "    cp = np.cos(p)\n",
      "    sp = np.sin(p)\n",
      "    cy = np.cos(y)\n",
      "    sy = np.sin(y)\n",
      "    \n",
      "    Rr = np.matrix([[1.0, 0.0, 0.0],[0.0, cr, -sr],[0.0, sr, cr]])\n",
      "    Rp = np.matrix([[cp, 0.0, sp],[0.0, 1.0, 0.0],[-sp, 0.0, cp]])\n",
      "    Ry = np.matrix([[cy, -sy, 0.0],[sy, cy, 0.0],[0.0, 0.0, 1.0]])\n",
      "\n",
      "    T[np.ix_([0,1,2],[0,1,2])] = Ry*Rp*Rr\n",
      "\n",
      "    # Translationsteil\n",
      "    T[np.ix_([0],[3])] = t\n",
      "    \n",
      "    return T"
     ],
     "language": "python",
     "metadata": {},
     "outputs": [],
     "prompt_number": 27
    },
    {
     "cell_type": "code",
     "collapsed": false,
     "input": [
      "conf = {}"
     ],
     "language": "python",
     "metadata": {},
     "outputs": []
    },
    {
     "cell_type": "code",
     "collapsed": false,
     "input": [
      "T = np.eye(4)\n",
      "for i in range(5):\n",
      "    T *= calcT(0.0,0.0,0.0,float(i))\n",
      "    print T"
     ],
     "language": "python",
     "metadata": {},
     "outputs": [
      {
       "output_type": "stream",
       "stream": "stdout",
       "text": [
        "[[ 1.  0.  0.  0.]\n",
        " [ 0.  1.  0.  0.]\n",
        " [ 0.  0.  1.  0.]\n",
        " [ 0.  0.  0.  1.]]\n",
        "[[ 1.  0.  0.  0.]\n",
        " [ 0.  1.  0.  0.]\n",
        " [ 0.  0.  1.  0.]\n",
        " [ 0.  0.  0.  1.]]\n",
        "[[ 1.  0.  0.  0.]\n",
        " [ 0.  1.  0.  0.]\n",
        " [ 0.  0.  1.  0.]\n",
        " [ 0.  0.  0.  1.]]\n",
        "[[ 1.  0.  0.  0.]\n",
        " [ 0.  1.  0.  0.]\n",
        " [ 0.  0.  1.  0.]\n",
        " [ 0.  0.  0.  1.]]\n",
        "[[ 1.  0.  0.  0.]\n",
        " [ 0.  1.  0.  0.]\n",
        " [ 0.  0.  1.  0.]\n",
        " [ 0.  0.  0.  1.]]\n"
       ]
      }
     ],
     "prompt_number": 67
    },
    {
     "cell_type": "code",
     "collapsed": false,
     "input": [
      "endeffector = T*np.array([0.0, 0.0, 0.0, 1.0])\n",
      "endeffector"
     ],
     "language": "python",
     "metadata": {},
     "outputs": [
      {
       "metadata": {},
       "output_type": "pyout",
       "prompt_number": 60,
       "text": [
        "array([[ 0.,  0.,  0.,  0.],\n",
        "       [ 0.,  0.,  0.,  0.],\n",
        "       [ 0.,  0.,  0.,  0.],\n",
        "       [ 0.,  0.,  0.,  1.]])"
       ]
      }
     ],
     "prompt_number": 60
    },
    {
     "cell_type": "code",
     "collapsed": false,
     "input": [
      "import sympy\n",
      "import sympybotics"
     ],
     "language": "python",
     "metadata": {},
     "outputs": [],
     "prompt_number": 38
    },
    {
     "cell_type": "code",
     "collapsed": false,
     "input": [
      "rbtdef = sympybotics.RobotDef('Example Robot', # robot name\n",
      "                            [(0, 0, 0, 0),  # list of tuples with Denavit-Hartenberg parameters\n",
      "                            ( 'pi/2', 0, 0, 0)], # (alpha, a, d, theta)\n",
      "                            dh_convention='standard' # either 'standard' or 'modified'\n",
      "                            )"
     ],
     "language": "python",
     "metadata": {},
     "outputs": [],
     "prompt_number": 45
    },
    {
     "cell_type": "code",
     "collapsed": false,
     "input": [
      "rbtdef.frictionmodel = {'Coulomb', 'viscous'} # options are None or a combination of 'Coulomb', 'viscous' and 'offset'"
     ],
     "language": "python",
     "metadata": {},
     "outputs": [],
     "prompt_number": 46
    },
    {
     "cell_type": "code",
     "collapsed": false,
     "input": [
      "rbtdef.dynparms()"
     ],
     "language": "python",
     "metadata": {},
     "outputs": [
      {
       "metadata": {},
       "output_type": "pyout",
       "prompt_number": 47,
       "text": [
        "[L_1xx,\n",
        " L_1xy,\n",
        " L_1xz,\n",
        " L_1yy,\n",
        " L_1yz,\n",
        " L_1zz,\n",
        " l_1x,\n",
        " l_1y,\n",
        " l_1z,\n",
        " m_1,\n",
        " fv_1,\n",
        " fc_1,\n",
        " L_2xx,\n",
        " L_2xy,\n",
        " L_2xz,\n",
        " L_2yy,\n",
        " L_2yz,\n",
        " L_2zz,\n",
        " l_2x,\n",
        " l_2y,\n",
        " l_2z,\n",
        " m_2,\n",
        " fv_2,\n",
        " fc_2]"
       ]
      }
     ],
     "prompt_number": 47
    },
    {
     "cell_type": "code",
     "collapsed": false,
     "input": [
      "rbt = sympybotics.RobotDynCode(rbtdef, verbose=True)"
     ],
     "language": "python",
     "metadata": {},
     "outputs": [
      {
       "output_type": "stream",
       "stream": "stdout",
       "text": [
        "generating geometric model\n"
       ]
      },
      {
       "output_type": "stream",
       "stream": "stdout",
       "text": [
        "generating kinematic model\n"
       ]
      },
      {
       "output_type": "stream",
       "stream": "stdout",
       "text": [
        "generating inverse dynamics code\n"
       ]
      },
      {
       "output_type": "stream",
       "stream": "stdout",
       "text": [
        "generating gravity term code\n"
       ]
      },
      {
       "output_type": "stream",
       "stream": "stdout",
       "text": [
        "generating coriolis term code\n"
       ]
      },
      {
       "output_type": "stream",
       "stream": "stdout",
       "text": [
        "generating coriolis matrix code\n"
       ]
      },
      {
       "output_type": "stream",
       "stream": "stdout",
       "text": [
        "generating inertia matrix code\n"
       ]
      },
      {
       "output_type": "stream",
       "stream": "stdout",
       "text": [
        "generating regressor matrix code\n"
       ]
      },
      {
       "output_type": "stream",
       "stream": "stdout",
       "text": [
        "generating friction term code\n"
       ]
      },
      {
       "output_type": "stream",
       "stream": "stdout",
       "text": [
        "done\n"
       ]
      }
     ],
     "prompt_number": 48
    },
    {
     "cell_type": "code",
     "collapsed": false,
     "input": [
      "rbt.geo.z"
     ],
     "language": "python",
     "metadata": {},
     "outputs": [
      {
       "metadata": {},
       "output_type": "pyout",
       "prompt_number": 49,
       "text": [
        "[Matrix([\n",
        " [0],\n",
        " [0],\n",
        " [1]]), Matrix([\n",
        " [ 0],\n",
        " [-1],\n",
        " [ 0]])]"
       ]
      }
     ],
     "prompt_number": 49
    },
    {
     "cell_type": "code",
     "collapsed": false,
     "input": [
      "rbt.kin.J[-1]"
     ],
     "language": "python",
     "metadata": {},
     "outputs": [
      {
       "metadata": {},
       "output_type": "pyout",
       "prompt_number": 50,
       "text": [
        "Matrix([\n",
        "[0, 0],\n",
        "[0, 0],\n",
        "[0, 0],\n",
        "[0, 0],\n",
        "[0, 0],\n",
        "[1, 1]])"
       ]
      }
     ],
     "prompt_number": 50
    },
    {
     "cell_type": "code",
     "collapsed": false,
     "input": [],
     "language": "python",
     "metadata": {},
     "outputs": []
    }
   ],
   "metadata": {}
  }
 ]
}